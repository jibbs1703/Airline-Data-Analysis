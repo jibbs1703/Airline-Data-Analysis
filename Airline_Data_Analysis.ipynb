{
 "cells": [
  {
   "cell_type": "code",
   "execution_count": 30,
   "id": "10ecb108",
   "metadata": {},
   "outputs": [],
   "source": [
    "# Import Data Analysis and Visualization Libraries\n",
    "import pandas as pd\n",
    "import numpy as np\n",
    "import matplotlib.pyplot as plt\n",
    "import seaborn as sns\n",
    "import plotly.express as px"
   ]
  },
  {
   "cell_type": "code",
   "execution_count": 31,
   "id": "6dbec5d5",
   "metadata": {},
   "outputs": [],
   "source": [
    "# Import All Three Files For Project\n",
    "flights = pd.read_csv('C:/Users/New/Downloads/datasets/2015-Airline-Dataset/flights.csv', low_memory=False)\n",
    "airports = pd.read_csv('C:/Users/New/Downloads/datasets/2015-Airline-Dataset/airports.csv')\n",
    "airlines = pd.read_csv('C:/Users/New/Downloads/datasets/2015-Airline-Dataset/airlines.csv')\n",
    "\n",
    "# Check Overall Shape of All 3 Files.\n",
    "print(f\"The flights dataset has {flights.shape[0]} rows and {flights.shape[1]} columns.\")\n",
    "print(f\"The airports dataset has {airports.shape[0]} rows and {airports.shape[1]} columns.\")\n",
    "print(f\"The airlines dataset has {airlines.shape[0]} rows and {airlines.shape[1]} columns.\")"
   ]
  }
 ],
 "metadata": {
  "kernelspec": {
   "display_name": "Python 3 (ipykernel)",
   "language": "python",
   "name": "python3"
  },
  "language_info": {
   "codemirror_mode": {
    "name": "ipython",
    "version": 3
   },
   "file_extension": ".py",
   "mimetype": "text/x-python",
   "name": "python",
   "nbconvert_exporter": "python",
   "pygments_lexer": "ipython3",
   "version": "3.11.8"
  }
 },
 "nbformat": 4,
 "nbformat_minor": 5
}
